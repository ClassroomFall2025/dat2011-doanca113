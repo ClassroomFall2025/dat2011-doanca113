{
 "cells": [
  {
   "cell_type": "markdown",
   "id": "8ac61ebf",
   "metadata": {},
   "source": [
    "[Select a kernel](command:_notebook.selectKernel) to run cells."
   ]
  }
 ],
 "metadata": {
  "language_info": {
   "name": "python"
  }
 },
 "nbformat": 4,
 "nbformat_minor": 5
}

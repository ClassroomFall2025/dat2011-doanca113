{
 "cells": [
  {
   "cell_type": "markdown",
   "id": "fdeff819",
   "metadata": {},
   "source": [
    "# Sinh Viên thực hiện Lab 2 ở Đây"
   ]
  },
  {
   "cell_type": "markdown",
   "id": "acc5d7dc",
   "metadata": {},
   "source": [
    "## Lab 2 - Bài 1"
   ]
  },
  {
   "cell_type": "code",
   "execution_count": null,
   "id": "001e0507",
   "metadata": {},
   "outputs": [
    {
     "name": "stdout",
     "output_type": "stream",
     "text": [
      " \n",
      "Kiếp con người mỏng manh như là gió\n",
      "Sống trên đời có được mấy lần vui\n",
      "Sao phải đau mà không thể mỉm cười\n",
      "Gắng buông nỗi ngậm ngùi nơi quá khứ\n",
      "\n",
      "Nếu có thể sao ta không làm thử\n",
      "Để tâm hồn khắc hai chữ bình an\n",
      "Cho đôi chân bước thanh thản nhẹ nhàng\n",
      "Dù hướng đời có muôn ngàn đá sỏi\n",
      "\n",
      "con người có trong bài thơ không?  True\n",
      "từ tìm kiếm:  con người\n",
      "từ in hoa:  CON NGƯỜI\n"
     ]
    }
   ],
   "source": [
    "# Code lab 2 bài 1 ở đây\n",
    "BaiTho=''' \n",
    "Kiếp con người mỏng manh như là gió\n",
    "Sống trên đời có được mấy lần vui\n",
    "Sao phải đau mà không thể mỉm cười\n",
    "Gắng buông nỗi ngậm ngùi nơi quá khứ\n",
    "\n",
    "Nếu có thể sao ta không làm thử\n",
    "Để tâm hồn khắc hai chữ bình an\n",
    "Cho đôi chân bước thanh thản nhẹ nhàng\n",
    "Dù hướng đời có muôn ngàn đá sỏi\n",
    "'''\n",
    "print(BaiTho)\n",
    "check= \"con người\" in BaiTho\n",
    "print(\"con người có trong bài thơ không? \", check)\n",
    "index= BaiTho.find(\"con người\") # tìm vị trí của từ \"con người\"\n",
    "index2= index + len(\"con người\") # tìm vị trí kết thúc của từ \"con người\"\n",
    "tutimkiem= BaiTho[index:index2]\n",
    "print(\"từ tìm kiếm: \", tutimkiem)\n",
    "upper= tutimkiem.upper() # chuyển thành chữ in hoa\n",
    "print(\"từ in hoa: \", upper)"
   ]
  },
  {
   "cell_type": "markdown",
   "id": "c0835310",
   "metadata": {},
   "source": [
    "## Lab 2 - Bài 2"
   ]
  },
  {
   "cell_type": "code",
   "execution_count": 5,
   "id": "fa9cb39f",
   "metadata": {},
   "outputs": [
    {
     "name": "stdout",
     "output_type": "stream",
     "text": [
      "… kiếp con người mỏng manh như là gió\n",
      "sống trên đời có được mấy lần vui\n",
      "sao phải đau mà không thể mỉm cười\n",
      "gắng buông nỗi ngậm ngùi nơi quá khứ   \n",
      "\n",
      "nếu có thể sao ta không làm thử\n",
      "để tâm hồn khắc hai chữ hạnh phúc\n",
      "cho đôi chân bước thanh thản nhẹ nhàng\n",
      "dù hướng đời có muôn ngàn đá sỏi …\n"
     ]
    }
   ],
   "source": [
    "# Code lab 2  bài 2 ở đây\n",
    "BaiTho='''kiếp con người mỏng manh như là gió\n",
    "sống trên đời có được mấy lần vui\n",
    "sao phải đau mà không thể mỉm cười\n",
    "gắng buông nỗi ngậm ngùi nơi quá khứ   \n",
    "\n",
    "nếu có thể sao ta không làm thử\n",
    "để tâm hồn khắc hai chữ bình an\n",
    "cho đôi chân bước thanh thản nhẹ nhàng\n",
    "dù hướng đời có muôn ngàn đá sỏi\n",
    "'''\n",
    "BaiTho = BaiTho.replace(\"bình an\", \"hạnh phúc\")\n",
    "BaiTho = \"… \" + BaiTho.strip() + \" …\" \n",
    "print(BaiTho)\n",
    "    \n"
   ]
  },
  {
   "cell_type": "markdown",
   "id": "0f2483fe",
   "metadata": {},
   "source": [
    "## Lab 2 - Bài 3"
   ]
  },
  {
   "cell_type": "code",
   "execution_count": 22,
   "id": "7034990b",
   "metadata": {},
   "outputs": [
    {
     "name": "stdout",
     "output_type": "stream",
     "text": [
      "Phương trình bậc nhất vô nghiệm\n"
     ]
    }
   ],
   "source": [
    "# Code lab 2  bài 3 ở đây\n",
    "a= float(input(\"Nhập hệ số a: \"))\n",
    "b= float(input(\"Nhập hệ số b: \"))\n",
    "if a==0:\n",
    "    if b==0:\n",
    "        print(\"Phương trình bậc nhất vô số nghiệm\")\n",
    "    else:\n",
    "        print(\"Phương trình bậc nhất vô nghiệm\")\n",
    "else:\n",
    "    print(\"Phương trình bậc nhất có nghiệm x= \", -b/a)\n"
   ]
  },
  {
   "cell_type": "markdown",
   "id": "d36ea3d3",
   "metadata": {},
   "source": [
    "## Lab 2 - Bài 4"
   ]
  },
  {
   "cell_type": "code",
   "execution_count": 8,
   "id": "4c707ec1",
   "metadata": {},
   "outputs": [
    {
     "name": "stdout",
     "output_type": "stream",
     "text": [
      "Phương trình bậc hai vô nghiệm\n"
     ]
    }
   ],
   "source": [
    "# code lab 2 bài 4 ở đây\n",
    "a= int(input(\"Nhập hệ số a: \"))\n",
    "b= int(input(\"Nhập hệ số b: \"))\n",
    "c= int(input(\"Nhập hệ số c: \"))\n",
    "if a==0:\n",
    "    if b==0:\n",
    "        if c==0:\n",
    "            print(\"Phương trình bậc hai vô số nghiệm\")\n",
    "        else:\n",
    "            print(\"Phương trình bậc hai vô nghiệm\")\n",
    "    else:\n",
    "        print(\"Phương trình bậc hai có một nghiệm x= \", -c/b)\n",
    "else:\n",
    "    delta= b**2 - 4*a*c\n",
    "    if delta<0:\n",
    "        print(\"Phương trình bậc hai vô nghiệm\")\n",
    "    elif delta==0:\n",
    "        print(\"Phương trình bậc hai có nghiệm kép x1= x2= \", -b/(2*a))\n",
    "    else:\n",
    "        print(\"Phương trình bậc hai có hai nghiệm phân biệt\")\n",
    "        print(\"x1= \", (-b + delta**0.5)/(2*a))\n",
    "        print(\"x2= \", (-b - delta**0.5)/(2*a))"
   ]
  },
  {
   "cell_type": "markdown",
   "id": "e2b41d4a",
   "metadata": {},
   "source": [
    "## Lab 2 - Bài 5: bài tập làm thêm"
   ]
  },
  {
   "cell_type": "code",
   "execution_count": null,
   "id": "0e0172f7",
   "metadata": {},
   "outputs": [],
   "source": [
    "# code lab 2  bài làm thêm ở đây "
   ]
  }
 ],
 "metadata": {
  "kernelspec": {
   "display_name": "Python 3",
   "language": "python",
   "name": "python3"
  },
  "language_info": {
   "codemirror_mode": {
    "name": "ipython",
    "version": 3
   },
   "file_extension": ".py",
   "mimetype": "text/x-python",
   "name": "python",
   "nbconvert_exporter": "python",
   "pygments_lexer": "ipython3",
   "version": "3.12.1"
  }
 },
 "nbformat": 4,
 "nbformat_minor": 5
}

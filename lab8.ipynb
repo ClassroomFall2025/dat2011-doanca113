{
 "cells": [
  {
   "cell_type": "markdown",
   "id": "fdeff819",
   "metadata": {},
   "source": [
    "# Sinh Viên thực hiện Lab 8 ở Đây"
   ]
  },
  {
   "cell_type": "markdown",
   "id": "acc5d7dc",
   "metadata": {},
   "source": [
    "## Lab 8 - Bài 1"
   ]
  },
  {
   "cell_type": "code",
   "execution_count": 1,
   "id": "001e0507",
   "metadata": {},
   "outputs": [
    {
     "name": "stdout",
     "output_type": "stream",
     "text": [
      "['đoàn', 'cả']\n",
      "ĐOÀN  CẢ\n"
     ]
    }
   ],
   "source": [
    "# Code lab 8 bài 1 ở đây\n",
    "\n",
    "# nhập họ tên từ bàn phím\n",
    "ho_ten = input(\"Nhập họ tên: \")\n",
    "list_ho_ten = [tu for tu in ho_ten.split()]\n",
    "print(list_ho_ten)\n",
    "ten_dem = \"\"\n",
    "for phan_tu in list_ho_ten[1:-1]:\n",
    "    ten_dem = ten_dem + phan_tu\n",
    "print(f'{list_ho_ten[0].upper()} {ten_dem} {list_ho_ten[-1].upper()}')\n",
    "\n",
    "\n"
   ]
  },
  {
   "cell_type": "markdown",
   "id": "c0835310",
   "metadata": {},
   "source": [
    "## Lab 8 - Bài 2"
   ]
  },
  {
   "cell_type": "code",
   "execution_count": 4,
   "id": "fa9cb39f",
   "metadata": {},
   "outputs": [
    {
     "name": "stdout",
     "output_type": "stream",
     "text": [
      " Email hợp lệ!\n",
      " Số điện thoại hợp lệ!\n",
      "CCCD hợp lệ!\n",
      " Thông tin sinh viên \n",
      "Họ tên: \n",
      "Email: doanca2006@gmail.com\n",
      "Phone: 0981491003\n",
      "CCCD: 052206008051\n"
     ]
    }
   ],
   "source": [
    "import re\n",
    "\n",
    "# --- Biểu thức kiểm tra ---\n",
    "regex_email = r\"^[a-zA-Z0-9._-]+@[a-zA-Z0-9.-]+\\.[a-zA-Z]{2,}$\"\n",
    "regex_phone = r\"^0[1-9][0-9]{8}$\"\n",
    "regex_cccd = r\"^(00[1-9]|0[1-8][0-9]|09[0-6])[0-9]{9}$\"\n",
    "\n",
    "# --- Tạo dict sinh viên ---\n",
    "sinh_vien = {\n",
    "    \"Họ tên\": \"\",\n",
    "    \"Email\": \"\",\n",
    "    \"Phone\": \"\",\n",
    "    \"CCCD\": \"\"\n",
    "}\n",
    "\n",
    "# --- Nhập và kiểm tra email ---\n",
    "while True:\n",
    "    email = input(\"Nhập email: \")\n",
    "    if re.match(regex_email, email):\n",
    "        sinh_vien[\"Email\"] = email\n",
    "        print(\" Email hợp lệ!\")\n",
    "    \n",
    "        break\n",
    "    else:\n",
    "        print(\" Email chưa đúng! Vui lòng nhập lại.\")\n",
    "\n",
    "# --- Nhập và kiểm tra số điện thoại ---\n",
    "while True:\n",
    "    phone = input(\"Nhập số điện thoại: \")\n",
    "    if re.match(regex_phone, phone):\n",
    "        sinh_vien[\"Phone\"] = phone\n",
    "        print(\" Số điện thoại hợp lệ!\")\n",
    "\n",
    "        break\n",
    "    else:\n",
    "        print(\" Số điện thoại chưa đúng! Vui lòng nhập lại.\")\n",
    "\n",
    "# --- Nhập và kiểm tra CCCD ---\n",
    "while True:\n",
    "    cccd = input(\"Nhập CCCD: \")\n",
    "    if re.match(regex_cccd, cccd):\n",
    "        sinh_vien[\"CCCD\"] = cccd\n",
    "        print(\"CCCD hợp lệ!\")\n",
    "        \n",
    "        break\n",
    "    else:\n",
    "        print(\" CCCD chưa đúng! Vui lòng nhập lại.\")\n",
    "\n",
    "# --- In kết quả ---\n",
    "print(\" Thông tin sinh viên \")\n",
    "for k, v in sinh_vien.items():\n",
    "    print(f\"{k}: {v}\")\n"
   ]
  },
  {
   "cell_type": "markdown",
   "id": "0f2483fe",
   "metadata": {},
   "source": [
    "## Lab 8 - Bài 3"
   ]
  },
  {
   "cell_type": "code",
   "execution_count": 6,
   "id": "7034990b",
   "metadata": {},
   "outputs": [
    {
     "name": "stdout",
     "output_type": "stream",
     "text": [
      "Đã ghi xong!\n"
     ]
    }
   ],
   "source": [
    "\n",
    "# Code lab 8  bài 3 ở đây\n",
    "import random\n",
    "\n",
    "list_ngau_nhien = [random.randint(0, 100) for _ in range(1000000)]\n",
    "\n",
    "with open(\"numbers.txt\", \"w\", encoding=\"utf-8\") as f:\n",
    "    for i, so in enumerate(list_ngau_nhien):\n",
    "        if i > 0:\n",
    "            f.write(\",\")\n",
    "        f.write(str(so))\n",
    "\n",
    "print(\"Đã ghi xong!\")\n",
    "\n"
   ]
  },
  {
   "cell_type": "markdown",
   "id": "d36ea3d3",
   "metadata": {},
   "source": [
    "## Lab 8 - Bài 4"
   ]
  },
  {
   "cell_type": "code",
   "execution_count": 12,
   "id": "4c707ec1",
   "metadata": {},
   "outputs": [
    {
     "name": "stdout",
     "output_type": "stream",
     "text": [
      "Trung bình (Mean): 49.981473\n",
      "Độ lệch chuẩn (Standard Deviation): 29.16723971304353\n"
     ]
    }
   ],
   "source": [
    "# code lab 8 bài 4 ở đây\n",
    "import statistics\n",
    "\n",
    "# Đọc dữ liệu từ file\n",
    "with open(\"dulieu.txt\", \"r\") as f:\n",
    "    data = list(map(int, f.read().split()))\n",
    "\n",
    "# Tính toán\n",
    "mean_val = statistics.mean(data)\n",
    "stdev_val = statistics.stdev(data)\n",
    "\n",
    "# Kết quả\n",
    "print(f\"Trung bình (Mean): {mean_val}\")\n",
    "print(f\"Độ lệch chuẩn (Standard Deviation): {stdev_val}\")\n"
   ]
  },
  {
   "cell_type": "markdown",
   "id": "e2b41d4a",
   "metadata": {},
   "source": [
    "## Lab 8 - Bài 5: bài tập làm thêm"
   ]
  },
  {
   "cell_type": "code",
   "execution_count": null,
   "id": "0e0172f7",
   "metadata": {},
   "outputs": [],
   "source": [
    "# code lab 8  bài làm thêm ở đây "
   ]
  }
 ],
 "metadata": {
  "kernelspec": {
   "display_name": "Python 3",
   "language": "python",
   "name": "python3"
  },
  "language_info": {
   "codemirror_mode": {
    "name": "ipython",
    "version": 3
   },
   "file_extension": ".py",
   "mimetype": "text/x-python",
   "name": "python",
   "nbconvert_exporter": "python",
   "pygments_lexer": "ipython3",
   "version": "3.13.4"
  }
 },
 "nbformat": 4,
 "nbformat_minor": 5
}

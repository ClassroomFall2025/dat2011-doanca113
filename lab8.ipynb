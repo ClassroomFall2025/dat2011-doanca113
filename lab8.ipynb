{
 "cells": [
  {
   "cell_type": "markdown",
   "id": "fdeff819",
   "metadata": {},
   "source": [
    "# Sinh Viên thực hiện Lab 8 ở Đây"
   ]
  },
  {
   "cell_type": "markdown",
   "id": "acc5d7dc",
   "metadata": {},
   "source": [
    "## Lab 8 - Bài 1"
   ]
  },
  {
   "cell_type": "code",
   "execution_count": 1,
   "id": "001e0507",
   "metadata": {},
   "outputs": [
    {
     "name": "stdout",
     "output_type": "stream",
     "text": [
      "Họ: ĐOÀN\n",
      "Tên đệm: \n",
      "Tên: CẢ\n"
     ]
    }
   ],
   "source": [
    "# Code lab 8 bài 1 ở đây\n",
    "\n",
    "ho_ten = input(\"Nhập họ và tên: \").strip()\n",
    "\n",
    "# Tách họ tên thành danh sách các từ\n",
    "parts = ho_ten.split()\n",
    "\n",
    "# Xác định họ, tên và tên đệm\n",
    "ho = parts[0].upper()                          # họ là từ đầu tiên\n",
    "ten = parts[-1].upper()                        # tên là từ cuối cùng\n",
    "ten_dem = \" \".join(parts[1:-1]) if len(parts) > 2 else \"\"  # phần giữa\n",
    "\n",
    "# Xuất kết quả\n",
    "print(f\"Họ: {ho}\")\n",
    "print(f\"Tên đệm: {ten_dem}\")\n",
    "print(f\"Tên: {ten}\")\n"
   ]
  },
  {
   "cell_type": "markdown",
   "id": "c0835310",
   "metadata": {},
   "source": [
    "## Lab 8 - Bài 2"
   ]
  },
  {
   "cell_type": "code",
   "execution_count": 6,
   "id": "fa9cb39f",
   "metadata": {},
   "outputs": [
    {
     "name": "stdout",
     "output_type": "stream",
     "text": [
      " KẾT QUẢ KIỂM TRA THÔNG TIN:\n",
      "Email hợp lệ.\n",
      "Số điện thoại hợp lệ.\n",
      " CMND/CCCD hợp lệ.\n",
      "THÔNG TIN SINH VIÊN\n",
      "Họ tên: Đoàn Cả \n",
      "Email: doanca2006@gmail.com\n",
      "Số điện thoại: 0981491003\n",
      "CMND/CCCD: 052206008051\n"
     ]
    }
   ],
   "source": [
    "# Code lab 8  bài 2 ở đây\n",
    "\n",
    "import re\n",
    "\n",
    "def kiem_tra_sinh_vien():\n",
    "\n",
    "    regex_email = r'^[\\w\\.-]+@[\\w\\.-]+\\.\\w+$'      # Email hợp lệ\n",
    "    regex_phone = r'^(0|\\+84)[0-9]{9}$'            # SĐT VN (0901234567 hoặc +84901234567)\n",
    "    regex_cmnd = r'^(\\d{9}|\\d{12})$'               # CMND 9 hoặc CCCD 12 số\n",
    "\n",
    "    # Nhập dữ liệu\n",
    "    sinhvien = {}\n",
    "    sinhvien[\"Họ tên\"] = input(\"Nhập họ tên: \")\n",
    "    sinhvien[\"Email\"] = input(\"Nhập email: \")\n",
    "    sinhvien[\"Số điện thoại\"] = input(\"Nhập số điện thoại: \")\n",
    "    sinhvien[\"CMND/CCCD\"] = input(\"Nhập CMND/CCCD: \")\n",
    "\n",
    "    # Kiểm tra dữ liệu\n",
    "    print(\" KẾT QUẢ KIỂM TRA THÔNG TIN:\")\n",
    "    \n",
    "    # Kiểm tra email\n",
    "    if re.match(regex_email, sinhvien[\"Email\"]):\n",
    "        print(\"Email hợp lệ.\")\n",
    "    else:\n",
    "        print(\" Email không hợp lệ! (Ví dụ đúng: ten@gmail.com)\")\n",
    "    \n",
    "    # Kiểm tra số điện thoại\n",
    "    if re.match(regex_phone, sinhvien[\"Số điện thoại\"]):\n",
    "        print(\"Số điện thoại hợp lệ.\")\n",
    "    else:\n",
    "        print(\"Số điện thoại không hợp lệ! (Ví dụ đúng: 0901234567 hoặc +84901234567)\")\n",
    "    \n",
    "    # Kiểm tra CMND/CCCD\n",
    "    if re.match(regex_cmnd, sinhvien[\"CMND/CCCD\"]):\n",
    "        print(\" CMND/CCCD hợp lệ.\")\n",
    "    else:\n",
    "        print(\" CMND/CCCD không hợp lệ! (Phải có 9 hoặc 12 chữ số)\")\n",
    "\n",
    "    # Xuất lại thông tin sinh viên\n",
    "    print(\"THÔNG TIN SINH VIÊN\")\n",
    "    for key, value in sinhvien.items():\n",
    "        print(f\"{key}: {value}\")\n",
    "\n",
    "# Nếu chạy trực tiếp file này\n",
    "if __name__ == \"__main__\":\n",
    "    kiem_tra_sinh_vien()\n"
   ]
  },
  {
   "cell_type": "markdown",
   "id": "0f2483fe",
   "metadata": {},
   "source": [
    "## Lab 8 - Bài 3"
   ]
  },
  {
   "cell_type": "code",
   "execution_count": null,
   "id": "7034990b",
   "metadata": {},
   "outputs": [
    {
     "name": "stdout",
     "output_type": "stream",
     "text": [
      "✅ Đã tạo file dulieu.txt chứa 1.000.000 số ngẫu nhiên (0..100).\n"
     ]
    }
   ],
   "source": [
    "\n",
    "# Code lab 8  bài 3 ở đây\n",
    "import random\n",
    "\n",
    "N = 1_000_000\n",
    "\n",
    "with open(\"dulieu.txt\", \"w\", encoding=\"utf-8\") as f:\n",
    "    for i in range(N):\n",
    "        f.write(str(random.randint(0, 100)))\n",
    "        if i < N - 1:\n",
    "            f.write(\" \")\n",
    "\n",
    "print(\" Đã tạo file dulieu.txt chứa 1.000.000 số ngẫu nhiên (0..100).\")\n"
   ]
  },
  {
   "cell_type": "markdown",
   "id": "d36ea3d3",
   "metadata": {},
   "source": [
    "## Lab 8 - Bài 4"
   ]
  },
  {
   "cell_type": "code",
   "execution_count": 12,
   "id": "4c707ec1",
   "metadata": {},
   "outputs": [
    {
     "name": "stdout",
     "output_type": "stream",
     "text": [
      "Trung bình (Mean): 49.981473\n",
      "Độ lệch chuẩn (Standard Deviation): 29.16723971304353\n"
     ]
    }
   ],
   "source": [
    "# code lab 8 bài 4 ở đây\n",
    "import statistics\n",
    "\n",
    "# Đọc dữ liệu từ file\n",
    "with open(\"dulieu.txt\", \"r\") as f:\n",
    "    data = list(map(int, f.read().split()))\n",
    "\n",
    "# Tính toán\n",
    "mean_val = statistics.mean(data)\n",
    "stdev_val = statistics.stdev(data)\n",
    "\n",
    "# Kết quả\n",
    "print(f\"Trung bình (Mean): {mean_val}\")\n",
    "print(f\"Độ lệch chuẩn (Standard Deviation): {stdev_val}\")\n"
   ]
  },
  {
   "cell_type": "markdown",
   "id": "e2b41d4a",
   "metadata": {},
   "source": [
    "## Lab 8 - Bài 5: bài tập làm thêm"
   ]
  },
  {
   "cell_type": "code",
   "execution_count": null,
   "id": "0e0172f7",
   "metadata": {},
   "outputs": [],
   "source": [
    "# code lab 8  bài làm thêm ở đây "
   ]
  }
 ],
 "metadata": {
  "kernelspec": {
   "display_name": "Python 3",
   "language": "python",
   "name": "python3"
  },
  "language_info": {
   "codemirror_mode": {
    "name": "ipython",
    "version": 3
   },
   "file_extension": ".py",
   "mimetype": "text/x-python",
   "name": "python",
   "nbconvert_exporter": "python",
   "pygments_lexer": "ipython3",
   "version": "3.13.4"
  }
 },
 "nbformat": 4,
 "nbformat_minor": 5
}

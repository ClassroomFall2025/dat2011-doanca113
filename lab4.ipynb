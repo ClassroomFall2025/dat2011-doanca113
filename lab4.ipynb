{
 "cells": [
  {
   "cell_type": "markdown",
   "id": "fdeff819",
   "metadata": {},
   "source": [
    "# Sinh Viên thực hiện Lab 4 ở Đây"
   ]
  },
  {
   "cell_type": "markdown",
   "id": "acc5d7dc",
   "metadata": {},
   "source": [
    "## Lab 4 - Bài 1"
   ]
  },
  {
   "cell_type": "code",
   "execution_count": 6,
   "id": "001e0507",
   "metadata": {},
   "outputs": [],
   "source": [
    "# Code lab 4 bài 1 ở đây\n",
    "def Tinh_Tien_Nuoc(sonuoc):\n",
    "    gia_ban_nuoc = (7500, 8800, 12000, 24000)\n",
    "    if sonuoc <= 10:\n",
    "        tien_nuoc_thang= sonuoc * gia_ban_nuoc[0]\n",
    "    elif sonuoc <= 20:\n",
    "        tien_nuoc_thang=10*gia_ban_nuoc[0]*(sonuoc-10)+gia_ban_nuoc[1]\n",
    "    elif sonuoc <= 30:\n",
    "        tien_nuoc_thang=10*gia_ban_nuoc[0]*10*gia_ban_nuoc[1]+(sonuoc-20)*gia_ban_nuoc[2]\n",
    "    else:\n",
    "        tien_nuoc_thang=10*gia_ban_nuoc[0]*10*gia_ban_nuoc[1]*10*gia_ban_nuoc[2]+(sonuoc-30)*gia_ban_nuoc[3]\n",
    "    return tien_nuoc_thang"
   ]
  },
  {
   "cell_type": "markdown",
   "id": "c0835310",
   "metadata": {},
   "source": [
    "## Lab 4 - Bài 2"
   ]
  },
  {
   "cell_type": "code",
   "execution_count": 7,
   "id": "fa9cb39f",
   "metadata": {},
   "outputs": [],
   "source": [
    "# Code lab 4  bài 2 ở đây\n",
    "def tinh_nguyen_lieu(dauxanh, thapcam, banhdeo):\n",
    "    dauxanh = {\"duong\": 0.04,\"dau\": 0.07}\n",
    "    thapcam = {\"duong\": 0.06,\"dau\": 0}\n",
    "    banhdeo = {\"duong\": 0.05,\"dau\": 0.02}\n",
    "    duong_lam_banh= dauxanh[\"duong\"] * 0.04 + thapcam[\"duong\"] * 0.06 + banhdeo[\"duong\"] * 0.05\n",
    "    dau_lam_banh= dauxanh[\"dau\"] * 0.07 + thapcam[\"dau\"] * 0 + banhdeo[\"dau\"] * 0.02\n",
    "    tinh_nguyen_lieu[\"duong\"]= duong_lam_banh\n",
    "    tinh_nguyen_lieu[\"dau\"]= dau_lam_banh\n",
    "    return tinh_nguyen_lieu"
   ]
  },
  {
   "cell_type": "markdown",
   "id": "0f2483fe",
   "metadata": {},
   "source": [
    "## Lab 4 - Bài 3"
   ]
  },
  {
   "cell_type": "code",
   "execution_count": 13,
   "id": "7034990b",
   "metadata": {},
   "outputs": [
    {
     "name": "stdout",
     "output_type": "stream",
     "text": [
      "Nhập từng số nguyên:\n",
      "Lỗi: Vui lòng nhập số nguyên!\n",
      "Lỗi: Vui lòng nhập số nguyên!\n",
      "Lỗi: Vui lòng nhập số nguyên!\n",
      "Danh sách đã nhập: [4, 54, 4, 54, 5, 5, 2, 5]\n",
      "Các số chẵn trong dãy là: [4, 54, 4, 54, 2]\n"
     ]
    }
   ],
   "source": [
    "# Code lab 4  bài 3 ở đây\n",
    "# Nhập từng số nguyên, kiểm tra lỗi nhập liệu từng số\n",
    "\n",
    "my_list = []\n",
    "print(\"Nhập từng số nguyên:\")\n",
    "while True:\n",
    "    so = input(\"Nhập số: \")\n",
    "    if so == \"c\":\n",
    "        break\n",
    "    try:\n",
    "        number = int(so)\n",
    "        my_list.append(number)\n",
    "    except ValueError:\n",
    "        print(\"Lỗi: Vui lòng nhập số nguyên!\")\n",
    "\n",
    "print(\"Danh sách đã nhập:\", my_list)\n",
    "\n",
    "# Lọc ra các số chẵn bằng lambda và filter\n",
    "new_list = list(filter(lambda x: x % 2 == 0, my_list))\n",
    "\n",
    "print(\"Các số chẵn trong dãy là:\", new_list)"
   ]
  },
  {
   "cell_type": "markdown",
   "id": "d36ea3d3",
   "metadata": {},
   "source": [
    "## Lab 4 - Bài 4"
   ]
  },
  {
   "cell_type": "code",
   "execution_count": 1,
   "id": "4c707ec1",
   "metadata": {},
   "outputs": [
    {
     "name": "stdout",
     "output_type": "stream",
     "text": [
      "\n",
      "===== MENU =========\n",
      "1. Tính tiền nước sinh hoạt\n",
      "2. Tính nguyên liệu làm bánh\n",
      "3. Kết thúc\n",
      "Bạn đã chọn tính tiền nước sinh hoạt.\n",
      "Tiền nước tháng này là: 792,000,012,576,000 VND\n",
      "\n",
      "===== MENU =========\n",
      "1. Tính tiền nước sinh hoạt\n",
      "2. Tính nguyên liệu làm bánh\n",
      "3. Kết thúc\n",
      "Bạn đã chọn tính nguyên liệu làm bánh.\n",
      "Số đường cần dùng: 0.01 kg\n",
      "Số đậu cần dùng: 0.01 kg\n",
      "\n",
      "===== MENU =========\n",
      "1. Tính tiền nước sinh hoạt\n",
      "2. Tính nguyên liệu làm bánh\n",
      "3. Kết thúc\n",
      "Kết thúc chương trình.\n"
     ]
    }
   ],
   "source": [
    "#code lab 4 bài 4 ở đây\n",
    "import lab4\n",
    "menu = {\n",
    "    \"1\": \"Tính tiền nước sinh hoạt\",\n",
    "    \"2\": \"Tính nguyên liệu làm bánh\",\n",
    "    \"3\": \"Kết thúc\"\n",
    "}\n",
    "while True:\n",
    "    print(\"\\n===== MENU =========\")\n",
    "    for key, value in menu.items():\n",
    "        print(f\"{key}. {value}\")\n",
    "    choice = input(\"Chọn một mục (1-3): \")\n",
    "\n",
    "    if choice == \"1\":\n",
    "        print(\"Bạn đã chọn tính tiền nước sinh hoạt.\")\n",
    "        so_nuoc = int(input(\"Nhập số nước tiêu thụ trong tháng (m3): \"))\n",
    "        tien =lab4.Tinh_Tien_Nuoc(so_nuoc)\n",
    "        print(f\"Tiền nước tháng này là: {tien:,} VND\")\n",
    "\n",
    "    elif choice == \"2\":\n",
    "        print(\"Bạn đã chọn tính nguyên liệu làm bánh.\")\n",
    "        s1 = int(input(\"Nhập số bánh đậu xanh: \"))\n",
    "        s2 = int(input(\"Nhập số bánh thập cẩm: \"))\n",
    "        s3 = int(input(\"Nhập số bánh dẻo: \"))\n",
    "        kq = lab4.tinh_nguyen_lieu(s1, s2, s3)\n",
    "        print(f\"Số đường cần dùng: {kq['duong']:.2f} kg\")\n",
    "        print(f\"Số đậu cần dùng: {kq['dau']:.2f} kg\")\n",
    "\n",
    "    elif choice == \"3\":\n",
    "        print(\"Kết thúc chương trình.\")\n",
    "        break\n",
    "\n",
    "    else:\n",
    "        print(\"Vui lòng chọn 1-3!\")"
   ]
  },
  {
   "cell_type": "markdown",
   "id": "b1d647a4",
   "metadata": {},
   "source": []
  },
  {
   "cell_type": "markdown",
   "id": "e2b41d4a",
   "metadata": {},
   "source": [
    "## Lab 4 - Bài 5: bài tập làm thêm"
   ]
  },
  {
   "cell_type": "code",
   "execution_count": null,
   "id": "0e0172f7",
   "metadata": {},
   "outputs": [],
   "source": [
    "# cod"
   ]
  }
 ],
 "metadata": {
  "kernelspec": {
   "display_name": "Python 3",
   "language": "python",
   "name": "python3"
  },
  "language_info": {
   "codemirror_mode": {
    "name": "ipython",
    "version": 3
   },
   "file_extension": ".py",
   "mimetype": "text/x-python",
   "name": "python",
   "nbconvert_exporter": "python",
   "pygments_lexer": "ipython3",
   "version": "3.12.1"
  }
 },
 "nbformat": 4,
 "nbformat_minor": 5
}

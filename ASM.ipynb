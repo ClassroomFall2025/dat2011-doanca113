{
 "cells": [
  {
   "cell_type": "markdown",
   "id": "915a16ab",
   "metadata": {},
   "source": [
    "## code ASM"
   ]
  },
  {
   "cell_type": "code",
   "execution_count": 1,
   "id": "7dc575e8",
   "metadata": {},
   "outputs": [
    {
     "name": "stdout",
     "output_type": "stream",
     "text": [
      " MENU QUẢN LÝ NHÂN VIÊN \n",
      "1. Nhập danh sách nhân viên và lưu file\n",
      "2. Đọc và xuất danh sách nhân viên\n",
      "3. Tìm nhân viên theo mã\n",
      "4. Xóa nhân viên theo mã\n",
      "5. Cập nhật thông tin nhân viên\n",
      "6. Tìm nhân viên theo khoảng lương\n",
      "7. Sắp xếp theo họ tên\n",
      "8. Sắp xếp theo thu nhập\n",
      "9. Xuất 5 nhân viên thu nhập cao nhất\n",
      "0. Thoát\n",
      "Bạn đã chọn: Nhập danh sách nhân viên và lưu file\n",
      " MENU QUẢN LÝ NHÂN VIÊN \n",
      "1. Nhập danh sách nhân viên và lưu file\n",
      "2. Đọc và xuất danh sách nhân viên\n",
      "3. Tìm nhân viên theo mã\n",
      "4. Xóa nhân viên theo mã\n",
      "5. Cập nhật thông tin nhân viên\n",
      "6. Tìm nhân viên theo khoảng lương\n",
      "7. Sắp xếp theo họ tên\n",
      "8. Sắp xếp theo thu nhập\n",
      "9. Xuất 5 nhân viên thu nhập cao nhất\n",
      "0. Thoát\n",
      "Bạn đã chọn: Cập nhật thông tin nhân viên\n",
      " MENU QUẢN LÝ NHÂN VIÊN \n",
      "1. Nhập danh sách nhân viên và lưu file\n",
      "2. Đọc và xuất danh sách nhân viên\n",
      "3. Tìm nhân viên theo mã\n",
      "4. Xóa nhân viên theo mã\n",
      "5. Cập nhật thông tin nhân viên\n",
      "6. Tìm nhân viên theo khoảng lương\n",
      "7. Sắp xếp theo họ tên\n",
      "8. Sắp xếp theo thu nhập\n",
      "9. Xuất 5 nhân viên thu nhập cao nhất\n",
      "0. Thoát\n",
      "Kết thúc chương trình.\n"
     ]
    }
   ],
   "source": [
    "while True:\n",
    "    print(\" MENU QUẢN LÝ NHÂN VIÊN \")\n",
    "    print(\"1. Nhập danh sách nhân viên và lưu file\")\n",
    "    print(\"2. Đọc và xuất danh sách nhân viên\")\n",
    "    print(\"3. Tìm nhân viên theo mã\")\n",
    "    print(\"4. Xóa nhân viên theo mã\")\n",
    "    print(\"5. Cập nhật thông tin nhân viên\")\n",
    "    print(\"6. Tìm nhân viên theo khoảng lương\")\n",
    "    print(\"7. Sắp xếp theo họ tên\")\n",
    "    print(\"8. Sắp xếp theo thu nhập\")\n",
    "    print(\"9. Xuất 5 nhân viên thu nhập cao nhất\")\n",
    "    print(\"0. Thoát\")\n",
    "    chon = input(\"Chọn chức năng (0-9): \")\n",
    "    if chon == \"1\":\n",
    "        print(\"Bạn đã chọn: Nhập danh sách nhân viên và lưu file\")\n",
    "    elif chon == \"2\":\n",
    "        print(\"Bạn đã chọn: Đọc và xuất danh sách nhân viên\")\n",
    "    elif chon == \"3\":\n",
    "        print(\"Bạn đã chọn: Tìm nhân viên theo mã\")\n",
    "    elif chon == \"4\":\n",
    "        print(\"Bạn đã chọn: Xóa nhân viên theo mã\")\n",
    "    elif chon == \"5\":\n",
    "        print(\"Bạn đã chọn: Cập nhật thông tin nhân viên\")\n",
    "    elif chon == \"6\":\n",
    "        print(\"Bạn đã chọn: Tìm nhân viên theo khoảng lương\")\n",
    "    elif chon == \"7\":\n",
    "        print(\"Bạn đã chọn: Sắp xếp theo họ tên\")\n",
    "    elif chon == \"8\":\n",
    "        print(\"Bạn đã chọn: Sắp xếp theo thu nhập\")\n",
    "    elif chon == \"9\":\n",
    "        print(\"Bạn đã chọn: Xuất 5 nhân viên thu nhập cao nhất\")\n",
    "    elif chon == \"0\":\n",
    "        print(\"Kết thúc chương trình.\")\n",
    "        break\n",
    "    else:\n",
    "        print(\"Vui lòng chọn lại!\")"
   ]
  }
 ],
 "metadata": {
  "kernelspec": {
   "display_name": "Python 3",
   "language": "python",
   "name": "python3"
  },
  "language_info": {
   "codemirror_mode": {
    "name": "ipython",
    "version": 3
   },
   "file_extension": ".py",
   "mimetype": "text/x-python",
   "name": "python",
   "nbconvert_exporter": "python",
   "pygments_lexer": "ipython3",
   "version": "3.12.1"
  }
 },
 "nbformat": 4,
 "nbformat_minor": 5
}

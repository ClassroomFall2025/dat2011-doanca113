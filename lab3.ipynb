{
 "cells": [
  {
   "cell_type": "markdown",
   "id": "fdeff819",
   "metadata": {},
   "source": [
    "# Sinh Viên thực hiện Lab 3 ở Đây"
   ]
  },
  {
   "cell_type": "code",
   "execution_count": null,
   "id": "f24249b8",
   "metadata": {},
   "outputs": [],
   "source": []
  },
  {
   "cell_type": "markdown",
   "id": "acc5d7dc",
   "metadata": {},
   "source": [
    "## Lab 3 - Bài 1"
   ]
  },
  {
   "cell_type": "code",
   "execution_count": 38,
   "id": "001e0507",
   "metadata": {},
   "outputs": [
    {
     "name": "stdout",
     "output_type": "stream",
     "text": [
      "thoát chương trình\n",
      "[3, 6, 4, 8]\n",
      "Dãy số sắp xếp: [3, 4, 6, 8]\n",
      "Giá trị nhỏ nhất: 3\n",
      "Giá trị lớn nhất: 8\n",
      "[8, 6, 4, 3]\n",
      "Giá trị nhỏ nhất: 3\n",
      "Giá trị lớn nhất: 8\n",
      "8\n",
      "6\n",
      "4\n",
      "3\n",
      "Tổng các số chia hết cho 3 là: 9\n",
      "có 2 số chia hết cho 3\n",
      "Trung bình cộng các số chia hết cho 3 là: 4.5\n",
      "Các số chia hết cho 3 là: [6, 3]\n"
     ]
    }
   ],
   "source": [
    "# Code lab 3 bài 1 ở đây\n",
    "day_so=[]\n",
    "tong=0\n",
    "dem=0\n",
    "day_so_chia_het_3=[]\n",
    "while True:\n",
    "    so = input(\"Nhập số: \")\n",
    "    if so == 'q':\n",
    "        print(\"thoát chương trình\")\n",
    "        break\n",
    "    else:\n",
    "        try:\n",
    "            phan_tu = int(so)\n",
    "            day_so.append(phan_tu)\n",
    "        except ValueError:\n",
    "            print(\"Vui lòng nhập số hoặc 'q' để thoát\")\n",
    "print(day_so)\n",
    "# Sắp xếp dãy số tăng dần\n",
    "day_so.sort()\n",
    "print(\"Dãy số sắp xếp:\", day_so)\n",
    "#giá trị nhỏ nhất\n",
    "print(\"Giá trị nhỏ nhất:\", day_so[0])\n",
    "print(\"Giá trị lớn nhất:\", day_so[-1])\n",
    "#sắp xếp dãy số giảm dần\n",
    "day_so.sort(reverse=True)\n",
    "print(day_so)\n",
    "print(\"Giá trị nhỏ nhất:\", day_so[-1])\n",
    "print(\"Giá trị lớn nhất:\", day_so[0])   \n",
    "#duyệt danh sách\n",
    "for n in day_so:\n",
    "    print(n)\n",
    "# kiểm tra từng phần tử\n",
    "for n in day_so:\n",
    "    if n % 3 == 0:\n",
    "        tong= tong + n\n",
    "        dem= dem + 1\n",
    "        day_so_chia_het_3.append(n)\n",
    "print(\"Tổng các số chia hết cho 3 là:\", tong)\n",
    "print(f\"có {dem} số chia hết cho 3\")\n",
    "if dem != 0:\n",
    "    print(\"Trung bình cộng các số chia hết cho 3 là:\", tong / dem)\n",
    "else:\n",
    "    print(\"Không có số nào chia hết cho 3\")\n",
    "print(\"Các số chia hết cho 3 là:\", day_so_chia_het_3)\n"
   ]
  },
  {
   "cell_type": "markdown",
   "id": "c0835310",
   "metadata": {},
   "source": [
    "## Lab 3 - Bài 2"
   ]
  },
  {
   "cell_type": "code",
   "execution_count": null,
   "id": "fa9cb39f",
   "metadata": {},
   "outputs": [
    {
     "name": "stdout",
     "output_type": "stream",
     "text": [
      "[{'jhgf': {'xep_loai': 'Trung bình', 'ho_va_ten': 'jhgf', 'diem': 5.0}}]\n",
      "Thông tin sinh viên đã được lưu thành công.\n",
      "[{'hgf': {'xep_loai': 'Giỏi', 'ho_va_ten': 'hgf', 'diem': 8.0}}]\n",
      "Thông tin sinh viên đã được lưu thành công.\n",
      "Thoát chương trình\n"
     ]
    }
   ],
   "source": [
    "# Code lab 3  bài 2 ở đây\n",
    "# Nhập thông tin sinh viên\n",
    "sinh_vien = {\n",
    "    \"họ tên\": \"\",\n",
    "    \"điểm\": \"\",\n",
    "}\n",
    "#nhap du lieu sinh vien\n",
    "#ho_ten = input(\"Nhập họ tên sinh viên: \")\n",
    "#diem=float(input(\"Nhập điểm sinh viên: \"))\n",
    "#sinh_vien[\"họ tên\"] = ho_ten\n",
    "#sinh_vien[\"điểm\"] = diem\n",
    "#print(sinh_vien)\n",
    "#if diem >= 9 and diem <= 10:\n",
    "#    hoc_luc = \"Xuất sắc\"\n",
    "#elif diem >= 8 :\n",
    "#    hoc_luc = \"Giỏi\"\n",
    "#elif diem >= 7:\n",
    "#    hoc_luc = \"Khá\"\n",
    "#elif diem >= 5:\n",
    "#    hoc_luc = \"Trung bình\"\n",
    "#  else:\n",
    "#    hoc_luc = \"Yếu\"\n",
    "#sinh_vien[\"học lực\"] = hoc_luc\n",
    "##ds_sinh_vien ={}\n",
    "#sinh_vien = {}\n",
    "\n",
    "while True:\n",
    "    ds_sinh_vien = []\n",
    "    sinh_vien = {}\n",
    "    Ho_ten = input(\"Nhập họ tên sinh viên: \")\n",
    "    if Ho_ten == 'q':\n",
    "        print(\"Thoát chương trình\")\n",
    "        break\n",
    "    else:\n",
    "        diem = float(input(\"Nhập điểm sinh viên: \"))\n",
    "        \n",
    "        if diem <5:\n",
    "                xep_loai = 'Yếu'\n",
    "        elif 5 <= diem < 7:\n",
    "                xep_loai = 'Trung bình'\n",
    "        elif 7 <= diem < 8:\n",
    "                xep_loai = 'Khá'\n",
    "        elif 8 <= diem < 9:\n",
    "                xep_loai = 'Giỏi'\n",
    "        else:\n",
    "                xep_loai = 'Xuất sắc'\n",
    "        sinh_vien['xep_loai'] = xep_loai\n",
    "        sinh_vien['ho_va_ten'] = Ho_ten\n",
    "        sinh_vien['diem'] = diem\n",
    "        ds_sinh_vien.append({Ho_ten: sinh_vien})\n",
    "        print(\"Thông tin sinh viên đã được lưu thành công.\")\n",
    "        print(ds_sinh_vien)\n",
    "   "
   ]
  },
  {
   "cell_type": "markdown",
   "id": "0f2483fe",
   "metadata": {},
   "source": [
    "## Lab 3 - Bài 3"
   ]
  },
  {
   "cell_type": "code",
   "execution_count": 7,
   "id": "7034990b",
   "metadata": {},
   "outputs": [
    {
     "name": "stdout",
     "output_type": "stream",
     "text": [
      "4 không phải là số nguyên tố\n"
     ]
    }
   ],
   "source": [
    "# Code lab 3  bài 3 ở đây\n",
    "n = int(input(\"Nhập một số nguyên: \"))\n",
    "if n < 2:\n",
    "    print(f\"{n} không phải là số nguyên tố\")\n",
    "else:\n",
    "    yes = True\n",
    "    i = 2\n",
    "    while i < n:\n",
    "        if n % i == 0:\n",
    "            yes = False\n",
    "            break\n",
    "        i += 1\n",
    "    if yes:\n",
    "        print(f\"{n} là số nguyên tố\")\n",
    "    else:\n",
    "        print(f\"{n} không phải là số nguyên tố\")"
   ]
  },
  {
   "cell_type": "markdown",
   "id": "d36ea3d3",
   "metadata": {},
   "source": [
    "## Lab 3 - Bài 4"
   ]
  },
  {
   "cell_type": "code",
   "execution_count": 4,
   "id": "4c707ec1",
   "metadata": {},
   "outputs": [
    {
     "name": "stdout",
     "output_type": "stream",
     "text": [
      "2 x 1 = 2\t2 x 2 = 4\t2 x 3 = 6\t2 x 4 = 8\t2 x 5 = 10\t2 x 6 = 12\t2 x 7 = 14\t2 x 8 = 16\t2 x 9 = 18\t\n",
      "3 x 1 = 3\t3 x 2 = 6\t3 x 3 = 9\t3 x 4 = 12\t3 x 5 = 15\t3 x 6 = 18\t3 x 7 = 21\t3 x 8 = 24\t3 x 9 = 27\t\n",
      "4 x 1 = 4\t4 x 2 = 8\t4 x 3 = 12\t4 x 4 = 16\t4 x 5 = 20\t4 x 6 = 24\t4 x 7 = 28\t4 x 8 = 32\t4 x 9 = 36\t\n",
      "5 x 1 = 5\t5 x 2 = 10\t5 x 3 = 15\t5 x 4 = 20\t5 x 5 = 25\t5 x 6 = 30\t5 x 7 = 35\t5 x 8 = 40\t5 x 9 = 45\t\n",
      "6 x 1 = 6\t6 x 2 = 12\t6 x 3 = 18\t6 x 4 = 24\t6 x 5 = 30\t6 x 6 = 36\t6 x 7 = 42\t6 x 8 = 48\t6 x 9 = 54\t\n",
      "7 x 1 = 7\t7 x 2 = 14\t7 x 3 = 21\t7 x 4 = 28\t7 x 5 = 35\t7 x 6 = 42\t7 x 7 = 49\t7 x 8 = 56\t7 x 9 = 63\t\n",
      "8 x 1 = 8\t8 x 2 = 16\t8 x 3 = 24\t8 x 4 = 32\t8 x 5 = 40\t8 x 6 = 48\t8 x 7 = 56\t8 x 8 = 64\t8 x 9 = 72\t\n",
      "9 x 1 = 9\t9 x 2 = 18\t9 x 3 = 27\t9 x 4 = 36\t9 x 5 = 45\t9 x 6 = 54\t9 x 7 = 63\t9 x 8 = 72\t9 x 9 = 81\t\n"
     ]
    }
   ],
   "source": [
    "# code lab 3 bài 4 ở đây\n",
    "for i in range(2, 10):\n",
    "    for j in range(1, 10):\n",
    "        print(f\"{i} x {j} = {i * j}\", end=\"\\t\")\n",
    "    print()  # Dòng trống giữa các bảng"
   ]
  },
  {
   "cell_type": "markdown",
   "id": "e2b41d4a",
   "metadata": {},
   "source": [
    "## Lab 3 - Bài 5: bài tập làm thêm"
   ]
  },
  {
   "cell_type": "code",
   "execution_count": 9,
   "id": "0e0172f7",
   "metadata": {},
   "outputs": [
    {
     "name": "stdout",
     "output_type": "stream",
     "text": [
      "Menu:\n",
      "Logarit: Log co so 10, ln, log co so tuy chon\n",
      "Menu:\n",
      "Lựa chọn không hợp lệ, vui lòng chọn lại\n",
      "Menu:\n",
      "thoát chương trình\n"
     ]
    }
   ],
   "source": [
    "# code lab 3  bài làm thêm ở đây \n",
    "while True:\n",
    "    print(\"Menu:\")\n",
    "    lưa_chon = input(\"nhap lua chon cua ban\")\n",
    "    match lưa_chon:\n",
    "        case '0':\n",
    "            print(\"thoát chương trình\")\n",
    "            break\n",
    "        case '1':\n",
    "            print(\"Phep tinh co ban: Cong, tru, nhan, chia\")\n",
    "        case '2':\n",
    "            print(\"Luy thua: Tinh x^y\")\n",
    "        case '3':\n",
    "            print(\"Can bac hai: Tinh √x\")\n",
    "        case '4':\n",
    "            print(\"Ham luong giac: Sin, cos, tan\")\n",
    "        case '5':\n",
    "            print(\"Logarit: Log co so 10, ln, log co so tuy chon\")\n",
    "        case '6':\n",
    "            print(\"Giai phuong trinh bac 2\")\n",
    "        case '7':\n",
    "            print(\"Lich su: Luu va xem lai cac phep tinh da thuc hien\")\n",
    "        case '8':\n",
    "            print(\"Thoi gian: Hien thi thoi gian hien tai\")\n",
    "        case '9':\n",
    "            print(\"Giao dien than thien: Menu de su dung bang tieng Viet\")\n",
    "        case _:\n",
    "            print(\"Lựa chọn không hợp lệ, vui lòng chọn lại\")\n",
    "        \n",
    "    \n",
    "        "
   ]
  }
 ],
 "metadata": {
  "kernelspec": {
   "display_name": "Python 3",
   "language": "python",
   "name": "python3"
  },
  "language_info": {
   "codemirror_mode": {
    "name": "ipython",
    "version": 3
   },
   "file_extension": ".py",
   "mimetype": "text/x-python",
   "name": "python",
   "nbconvert_exporter": "python",
   "pygments_lexer": "ipython3",
   "version": "3.12.1"
  }
 },
 "nbformat": 4,
 "nbformat_minor": 5
}
